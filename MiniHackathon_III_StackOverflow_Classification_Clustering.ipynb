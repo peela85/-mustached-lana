{
  "nbformat": 4,
  "nbformat_minor": 0,
  "metadata": {
    "colab": {
      "name": "MiniHackathon_III_StackOverflow_Classification_Clustering.ipynb",
      "version": "0.3.2",
      "provenance": [],
      "collapsed_sections": [],
      "include_colab_link": true
    },
    "kernelspec": {
      "name": "python3",
      "display_name": "Python 3"
    },
    "accelerator": "GPU"
  },
  "cells": [
    {
      "cell_type": "markdown",
      "metadata": {
        "id": "view-in-github",
        "colab_type": "text"
      },
      "source": [
        "<a href=\"https://colab.research.google.com/github/peela85/-mustached-lana/blob/master/MiniHackathon_III_StackOverflow_Classification_Clustering.ipynb\" target=\"_parent\"><img src=\"https://colab.research.google.com/assets/colab-badge.svg\" alt=\"Open In Colab\"/></a>"
      ]
    },
    {
      "cell_type": "markdown",
      "metadata": {
        "colab_type": "text",
        "id": "74lzxaiQ9-9s"
      },
      "source": [
        "\n",
        "\n",
        "\n",
        "# Advanced Certification in AIML\n",
        "## A Program by IIIT-H and TalentSprint"
      ]
    },
    {
      "cell_type": "markdown",
      "metadata": {
        "id": "O4mJKZzgrMLp",
        "colab_type": "text"
      },
      "source": [
        "## Problem Statement"
      ]
    },
    {
      "cell_type": "markdown",
      "metadata": {
        "id": "kiWKLfqkrOB6",
        "colab_type": "text"
      },
      "source": [
        "\n",
        "The problem as a part of this Mini-hackathon, is for you to be able to classify a given pair of stackoverflow posts, as duplicate, direct-link, indirect-link or unrelated. The features will be the word2vec average representation of the two posts, and the label will 4 possibilities mentioned above.\n",
        "\n",
        "\n",
        "** You will be graded on the following activities as a part of this larger problem: **\n",
        "\n",
        "1.   Using pre-trained Word2Vec model, to get a word2vec representation of the 'massaged' stackoverflow data (i.e. no preprocessing would be required)\n",
        "2.   Building classifiers using SKLearn and reporting accuracies.\n",
        "3.   We have provided an architecture such that the entire data can be clustered, and classifiers can run on each cluster using multithreading. Your task is to only create a KMeans clustering definition using SKLearn, and plug it at the location asked.\n",
        "\n",
        "** The objective of this experiment below is to show alternate possibilities of classifications using good representations and using concepts such as multithreading over clusters. You're thus combining, classification, clustering (enabled by multi-threading) ** . Further the foundation code would also give an insight into how to build generic-code so that you can run multiple classifiers and compare the results.\n",
        "\n"
      ]
    },
    {
      "cell_type": "markdown",
      "metadata": {
        "id": "tzgxavYb-pDg",
        "colab_type": "text"
      },
      "source": [
        "## VERY IMP NOTE: \n",
        "1. Do ensure you are using Python 3. \n",
        "2. GPU is not needed.\n",
        "3. There is a lot of code here below, however please narrow down to exactly what is being asked. (that will help you score on the tasks while gradually understanding the pieces of the code.) ** Also it is recommended to read this notebook bottom-up, so that you start from what is asked and then get into details. Also the code is arranged the same way **\n",
        "4.  Please be clinical in your implementation. Make necessary copies before making edits (as there are several lines of code and might get difficult to track changes). Avoid \"Reset all runtimes\" (as this will force you download entire word2vec again; \"Restart runtime\" is better as it doesn't refresh the drive i.e. all the files that you downloaded will still be present, and only the session variables will be refreshed) ; also be very sure about your changes before running the last KMeans section (else you might have to keep waiting for about 10 to 15 mins each time) \n",
        "5.  Finally please look for the graded problems in the last cell of this notebook; That will further guide you to relevant sections in the notebook that you need to fill"
      ]
    },
    {
      "cell_type": "markdown",
      "metadata": {
        "id": "QIl5bg9HWXDq",
        "colab_type": "text"
      },
      "source": [
        "## Data\n",
        "\n",
        "<pre>\n",
        "\n",
        "The original data is stored in ASEDataset folder.\n",
        "\n",
        "├── ASEDataset\n",
        "│   ├── _4_SentenceData.txt\n",
        "│   ├── testPair.txt\n",
        "│   └── trainingPair.txt\n",
        "\n",
        "\n",
        " scores in testPair.txt    ID\t    type\n",
        " \n",
        "    1.00              |    1     |  duplicate\n",
        "    0.8                |    2     |  direct link\n",
        " btwn 0 / 0.9         |    3     |  indirect link\n",
        "    0.00              |    4     |  isolated\n",
        "The structure of the training/testing data is stored in pandas.dataframe format.\n",
        "\n",
        ">>> train_pd.head\n",
        "ID,    'PostId', 'RelatedPostId', 'LinkTypeId', 'PostIdVec', 'RelatedPostIdVec', 'Output'\n",
        "0       283           297          1              [...]         [...]              [...]\n",
        "1        56            68          2              [...]         [...]              [...]\n",
        "2         5            16          3              [...]         [...]              [...] \n",
        "3      9083          6841          4              [...]         [...]              [...]   \n",
        "4      5363          5370          1              [...]         [...]              [...]  \n",
        "5       928           949          2              [...]         [...]              [...]  \n",
        "...\n",
        "'PostIdVec' and 'RelatedPostIdVec' represent the word embeddings of corresponding posts.\n",
        "\n",
        "The relationship between 'PostId' (or 'Related PostId') and Sentence in '_4_SentenceData.txt' is :\n",
        "\n",
        "The Nth line of _4_SentenceData.txt is the text of the question whose Id is N+1. For example,\n",
        "\n",
        "PostId: 283, refers to the 283th line of text in _4_SentenceData.txt \n",
        "RelatedPostId: 297, refers to the 296th line of text in _4_SentenceData.txt \n",
        "LinkTypeId:1, menas that they're duplicate.\n",
        "\n",
        "</pre>"
      ]
    },
    {
      "cell_type": "markdown",
      "metadata": {
        "id": "sJBbfrbb_4Z-",
        "colab_type": "text"
      },
      "source": [
        "## Code walkthrough:\n",
        "\n",
        "Here is a short code walkthrough, by explanation of all the pieces below (there are code comments within the code as well. Those might not be covered below). \n",
        "\n",
        "-   Firstly we download the word2vec embedding an unzip them. For this we have the ** prepare_word2vec() ** method </br>\n",
        "-   We then call the classifier code (or for the last section clustering code) such as ** run_MLP  or run_KNN_baseline or run_SVM_baseline **\n",
        ">-  In either of the three above, the logic is the same and is as follows:\n",
        ">>-  Create a word2vec representation of your data i.e. the textual post related to postId and relatedPostId is taken, and a word to vec represenation is crated out of it. Further, the average of these two representation is your feature vecture; and the fact that they are duplicate, direct-link etc are labels. You have to code this part under **get_document_vec** method. (Look out for \"YOUR CODE BELOW\" tag)\n",
        ">>- After the above is done, train-test split is performed and a classifer (using SKlearn) has to be defined. The variable ** clf ** will hold the classifier and that has to be defined by you with the parameters. (Start off with the most basic.)\n",
        "-   ** run_kmeans_m ** is different from the above in that, after loading the data in a similar fashion, instead of calling a single classifier, the data is first clustered to multiple clusters, and for each cluster a classifier is called (using Python threading) . Read the code comments on the function."
      ]
    },
    {
      "cell_type": "markdown",
      "metadata": {
        "colab_type": "text",
        "id": "9fYwJv9T9--K"
      },
      "source": [
        "## Setup Steps"
      ]
    },
    {
      "cell_type": "code",
      "metadata": {
        "colab_type": "code",
        "id": "tOGbD4Wa9--N",
        "colab": {}
      },
      "source": [
        "#@title Please enter your registration id to start: (e.g. P181900101) { run: \"auto\", display-mode: \"form\" }\n",
        "Id = \"P181902225\" #@param {type:\"string\"}\n"
      ],
      "execution_count": 0,
      "outputs": []
    },
    {
      "cell_type": "code",
      "metadata": {
        "colab_type": "code",
        "id": "BQf6sWOR9--S",
        "colab": {}
      },
      "source": [
        "#@title Please enter your password (normally your phone number) to continue: { run: \"auto\", display-mode: \"form\" }\n",
        "password = \"9059040698\" #@param {type:\"string\"}\n"
      ],
      "execution_count": 0,
      "outputs": []
    },
    {
      "cell_type": "code",
      "metadata": {
        "colab_type": "code",
        "cellView": "form",
        "id": "HPdGmFba9--f",
        "colab": {
          "base_uri": "https://localhost:8080/",
          "height": 34
        },
        "outputId": "ce998f85-8235-4036-c7d5-6ac16c73db9b"
      },
      "source": [
        "#@title Run this cell to complete the setup for this Notebook\n",
        "\n",
        "from IPython import get_ipython\n",
        "ipython = get_ipython()\n",
        "  \n",
        "notebook=\"M1_Mini_Hackathon_AuthorIdentification\" #name of the notebook\n",
        "Answer = \"This notebook is not graded\"\n",
        "def setup():\n",
        "#  ipython.magic(\"sx pip3 install wget\")\n",
        "   ipython.magic(\"sx wget https://www.dropbox.com/s/9d7r7m3q85met13/Mini_hackathon_III.zip?dl=1\")\n",
        "   ipython.magic(\"sx unzip Mini_hackathon_III.zip?dl=1\")\n",
        "   print (\"Setup completed successfully\")\n",
        "   return\n",
        "\n",
        "def submit_notebook():\n",
        "    \n",
        "    ipython.magic(\"notebook -e \"+ notebook + \".ipynb\")\n",
        "    \n",
        "    import requests, json, base64, datetime\n",
        "\n",
        "    url = \"https://dashboard.talentsprint.com/xp/app/save_notebook_attempts\"\n",
        "    if not submission_id:\n",
        "      data = {\"id\" : getId(), \"notebook\" : notebook, \"mobile\" : getPassword()}\n",
        "      r = requests.post(url, data = data)\n",
        "      r = json.loads(r.text)\n",
        "\n",
        "      if r[\"status\"] == \"Success\":\n",
        "          return r[\"record_id\"]\n",
        "      elif \"err\" in r:        \n",
        "        print(r[\"err\"])\n",
        "        return None        \n",
        "      else:\n",
        "        print (\"Something is wrong, the notebook will not be submitted for grading\")\n",
        "        return None\n",
        "\n",
        "    elif getAnswer() and getComplexity() and getAdditional() and getConcepts():\n",
        "      f = open(notebook + \".ipynb\", \"rb\")\n",
        "      file_hash = base64.b64encode(f.read())\n",
        "\n",
        "      data = {\"complexity\" : Complexity, \"additional\" :Additional, \n",
        "              \"concepts\" : Concepts, \"record_id\" : submission_id, \n",
        "              \"answer\" : Answer, \"id\" : Id, \"file_hash\" : file_hash,\n",
        "              \"notebook\" : notebook}\n",
        "\n",
        "      r = requests.post(url, data = data)\n",
        "      r = json.loads(r.text)\n",
        "      print(\"Your submission is successful.\")\n",
        "      print(\"Ref Id:\", submission_id)\n",
        "      print(\"Date of submission: \", r[\"date\"])\n",
        "      print(\"Time of submission: \", r[\"time\"])\n",
        "      print(\"View your submissions: https://iiith-aiml.talentsprint.com/notebook_submissions\")\n",
        "      print(\"For any queries/discrepancies, please connect with mentors through the chat icon in LMS dashboard.\")\n",
        "      return submission_id\n",
        "    else: submission_id\n",
        "    \n",
        "\n",
        "def getAdditional():\n",
        "  try:\n",
        "    if Additional: return Additional      \n",
        "    else: raise NameError('')\n",
        "  except NameError:\n",
        "    print (\"Please answer Additional Question\")\n",
        "    return None\n",
        "\n",
        "def getComplexity():\n",
        "  try:\n",
        "    return Complexity\n",
        "  except NameError:\n",
        "    print (\"Please answer Complexity Question\")\n",
        "    return None\n",
        "  \n",
        "def getConcepts():\n",
        "  try:\n",
        "    return Concepts\n",
        "  except NameError:\n",
        "    print (\"Please answer Concepts Question\")\n",
        "    return None\n",
        "\n",
        "def getAnswer():\n",
        "  try:\n",
        "    return Answer\n",
        "  except NameError:\n",
        "    print (\"Please answer Question\")\n",
        "    return None\n",
        "\n",
        "def getId():\n",
        "  try: \n",
        "    return Id if Id else None\n",
        "  except NameError:\n",
        "    return None\n",
        "\n",
        "def getPassword():\n",
        "  try:\n",
        "    return password if password else None\n",
        "  except NameError:\n",
        "    return None\n",
        "\n",
        "submission_id = None\n",
        "### Setup \n",
        "if getPassword() and getId():\n",
        "  submission_id = submit_notebook()\n",
        "  if submission_id:\n",
        "    setup()\n",
        "  \n",
        "else:\n",
        "  print (\"Please complete Id and Password cells before running setup\")\n",
        "\n"
      ],
      "execution_count": 58,
      "outputs": [
        {
          "output_type": "stream",
          "text": [
            "Setup completed successfully\n"
          ],
          "name": "stdout"
        }
      ]
    },
    {
      "cell_type": "markdown",
      "metadata": {
        "colab_type": "text",
        "id": "ioUZ8pJa9--n"
      },
      "source": [
        "### NOTE: Please feel free to use ML libraries such as Sklearn  etc whereever applicable"
      ]
    },
    {
      "cell_type": "markdown",
      "metadata": {
        "id": "nO2zIudGdZ0R",
        "colab_type": "text"
      },
      "source": [
        "#### Ensure you change to the directory below"
      ]
    },
    {
      "cell_type": "code",
      "metadata": {
        "id": "tMUWCVS_imQv",
        "colab_type": "code",
        "outputId": "dee7b5bc-a82e-4c3a-e440-f213115deaa9",
        "colab": {
          "base_uri": "https://localhost:8080/",
          "height": 34
        }
      },
      "source": [
        "%cd Mini_hackathon_III/"
      ],
      "execution_count": 59,
      "outputs": [
        {
          "output_type": "stream",
          "text": [
            "/content/Mini_hackathon_III/Mini_hackathon_III/Mini_hackathon_III\n"
          ],
          "name": "stdout"
        }
      ]
    },
    {
      "cell_type": "code",
      "metadata": {
        "id": "bGJIWlfVivkm",
        "colab_type": "code",
        "outputId": "9fdf55e0-0cb8-4204-cac1-9558f6ded09d",
        "colab": {
          "base_uri": "https://localhost:8080/",
          "height": 34
        }
      },
      "source": [
        "ls"
      ],
      "execution_count": 60,
      "outputs": [
        {
          "output_type": "stream",
          "text": [
            "\u001b[0m\u001b[01;34mASEDataset\u001b[0m/  helpers.py  learners.py  newabcd.py  tuner.py  utility.py\n"
          ],
          "name": "stdout"
        }
      ]
    },
    {
      "cell_type": "code",
      "metadata": {
        "id": "4IsfU5f8YrNu",
        "colab_type": "code",
        "outputId": "34e889a9-e5b6-4af9-bc6f-0514c75988ec",
        "colab": {
          "base_uri": "https://localhost:8080/",
          "height": 51
        }
      },
      "source": [
        "%cd Mini_hackathon_III/"
      ],
      "execution_count": 61,
      "outputs": [
        {
          "output_type": "stream",
          "text": [
            "[Errno 2] No such file or directory: 'Mini_hackathon_III/'\n",
            "/content/Mini_hackathon_III/Mini_hackathon_III/Mini_hackathon_III\n"
          ],
          "name": "stdout"
        }
      ]
    },
    {
      "cell_type": "code",
      "metadata": {
        "id": "ZXleKuISYimW",
        "colab_type": "code",
        "colab": {
          "base_uri": "https://localhost:8080/",
          "height": 34
        },
        "outputId": "ffb97956-5496-4398-d01a-90585e0a2128"
      },
      "source": [
        "!pip install wget"
      ],
      "execution_count": 62,
      "outputs": [
        {
          "output_type": "stream",
          "text": [
            "Requirement already satisfied: wget in /usr/local/lib/python3.6/dist-packages (3.2)\n"
          ],
          "name": "stdout"
        }
      ]
    },
    {
      "cell_type": "code",
      "metadata": {
        "id": "bKT9kuVY658Z",
        "colab_type": "code",
        "colab": {}
      },
      "source": [
        "import warnings\n",
        "import os\n",
        "import wget\n",
        "import zipfile\n",
        "import random\n",
        "import numpy as np\n",
        "import gensim\n",
        "import pandas as pd\n",
        "import threading\n",
        "from sklearn import metrics\n",
        "import matplotlib.pyplot as plt\n",
        "\n",
        "\n",
        "#used by k-means\n",
        "from multiprocessing import Queue\n",
        "from sklearn.cluster import KMeans\n",
        "\n",
        "#importing models\n",
        "from sklearn import svm\n",
        "\n",
        "#related to training algorithm\n",
        "from learners import SK_SVM,SK_KNN,SK_MLP\n",
        "from helpers import tune_learner#this takes care of importing tune_learner method\n",
        "#from tuner import DE_Tune_ML\n",
        "from sklearn.model_selection import StratifiedKFold\n",
        "\n",
        "#Generic\n",
        "import timeit\n",
        "from utility import study\n",
        "\n",
        "from sklearn.neural_network import MLPClassifier\n",
        "from sklearn.neighbors import KNeighborsClassifier"
      ],
      "execution_count": 0,
      "outputs": []
    },
    {
      "cell_type": "markdown",
      "metadata": {
        "id": "ptkmFlviaxbj",
        "colab_type": "text"
      },
      "source": [
        "NOTE: \n",
        "In the cell above the imports for 'learners', 'helpers' etc pertain to local modules. Here are some FAQs:</br>\n",
        "-   If you run the command \"%ls \" you will see a few .py files. These are the local modules. \n",
        "-   If you intend to read them, you can either download and open in your editer. Or use \"%cat fileName.py\"\n",
        "-   You can further edit it (by using a local editor after downloading file) and upload it back. However ensure you do run the command \"%run fileName.py\" for your session to reload the file into the colab runtime (editing file on disk is not the same as having the file loaded on runtime)"
      ]
    },
    {
      "cell_type": "markdown",
      "metadata": {
        "id": "gLIWMY7AUsVa",
        "colab_type": "text"
      },
      "source": [
        "### ALERT: Your code change expected in the cell below (look for the tag: \" YOUR CODE HERE \")"
      ]
    },
    {
      "cell_type": "code",
      "metadata": {
        "id": "DmPzDbPX10Xu",
        "colab_type": "code",
        "colab": {}
      },
      "source": [
        "from __future__ import division\n",
        "import pdb\n",
        "import os\n",
        "import numpy as np\n",
        "import pandas as pd\n",
        "import pickle\n",
        "\n",
        "\n",
        "class PaperData(object):\n",
        "  def __init__(self, word2vec, dir=\"ASEDataset\" + os.path.sep):\n",
        "    self.word2vec = word2vec\n",
        "    self.sentences = self.load_sentences(dir + \"_4_SentenceData.txt\")\n",
        "    self.train_src = dir + \"trainingPair.txt\"\n",
        "    self.test_src = dir + \"testPair.txt\"\n",
        "    self.train_data = self.load_data(self.train_src)\n",
        "    self.test_data = self.load_data(self.test_src)\n",
        "\n",
        "  def load_data(self, dir):\n",
        "    result = pd.DataFrame()\n",
        "    data = pd.read_table(dir)\n",
        "    i = 0\n",
        "    while i < len(data):\n",
        "      result = self.save(result, pd.DataFrame(\n",
        "        [[data.iloc[i, 0], data.iloc[i + 1, 0], data.iloc[i + 3, 0]]],\n",
        "        columns=[\"PostId\", \"RelatedPostId\", \"LinkTypeId\"]))\n",
        "      i += 5\n",
        "    return result\n",
        "\n",
        "  def load_sentences(self, dir):\n",
        "    result = pd.read_table(dir, sep=\"\\n\", header=None)\n",
        "    return result\n",
        "\n",
        "  def get_document_vec(self, data, file_name=\"\"):\n",
        "    \"\"\"\n",
        "    this will get the word vector representations for original posts and realted\n",
        "    posts, and store the results back to data, which is in pandas dataframe.\n",
        "\n",
        "    For example, the results will have the following columns.\n",
        "\n",
        "    \"PostId\",\"RelatedPostId\",\"LinkType\",\"PostIdVec\",\"RelatedPostIdVec\",\"Output\"\n",
        "\n",
        "    Output will be the mean of corresponding \"PostIdVec\" and\n",
        "    \"RelatedPostIdVec\"\"\n",
        "\n",
        "    mappings between labels and id's\n",
        "\n",
        "    1.00              |    1     |  duplicate\n",
        "    0.8               |    2     |  direct link\n",
        "    0<x<0.8           |    3     |  indirect link\n",
        "    0.00              |    4     |  isolated\n",
        "\n",
        "\n",
        "    :param data: pandas.DataFrame of train or test data\n",
        "    :return: None\n",
        "    \"\"\"\n",
        "    if len(data) <= 0 or not isinstance(data, pd.DataFrame):\n",
        "      raise ValueError(\n",
        "        \"Please generate {0} in pandas.dataframe first!\".format(\n",
        "          str(data)))\n",
        "    if not self.word2vec:\n",
        "      raise ValueError(\"Please load pre-trained word2vec mode first!\")\n",
        "    data[\"PostIdVec\"] = \"\"\n",
        "    data[\"RelatedPostIdVec\"] = \"\"\n",
        "    for column in [\"RelatedPostId\", \"PostId\"]: \n",
        "      rows = list(map(int, data[column].tolist())) #Changed to a list\n",
        "      pd_posts = self.sentences.iloc[rows, 0]\n",
        "      for index, post_sentences in enumerate(pd_posts.tolist()):  \n",
        "        key_list = post_sentences.split(\" \")\n",
        "        \n",
        "        #YOUR CODE HERE .START (NOTE: key_list above contains the sentences. x below is word to vec representation of ...\n",
        "        #...each word of the sentence) And self.word2vec is the word2vec model which you can use to get your representations\n",
        "        x = np.array([self.word2vec[i] for i in key_list if i in self.word2vec])\n",
        "        # YOUR CODE HERE END\n",
        "        word_count = len(x)\n",
        "        word_vecs = np.sum(x, axis=0)\n",
        "        data.set_value(index, column + \"Vec\", word_vecs / word_count)\n",
        "    data[\"Output\"] = (data[\"PostIdVec\"] + data[\"RelatedPostIdVec\"]) / 2\n",
        "    if file_name:\n",
        "      with open(file_name, \"wb\") as mypickle:\n",
        "        pickle.dump(data, mypickle)\n",
        "    return data\n",
        "\n",
        "  def save(self, out, result):\n",
        "    if out.empty:\n",
        "      out = result\n",
        "    else:\n",
        "      out = out.append(result, ignore_index=True)\n",
        "    return out\n"
      ],
      "execution_count": 0,
      "outputs": []
    },
    {
      "cell_type": "code",
      "metadata": {
        "id": "OVzvxD_1iiV8",
        "colab_type": "code",
        "colab": {}
      },
      "source": [
        "def results_SVM_C(predicted, test_Y):  \n",
        "  # labels: [\"Duplicates\", \"DirectLink\",\"IndirectLink\", \"Isolated\"]\n",
        "  report_gen = metrics.classification_report(\n",
        "      test_Y, predicted, labels=[\"1\", \"2\", \"3\", \"4\"], digits=3)\n",
        "  print(report_gen)\n",
        "  return "
      ],
      "execution_count": 0,
      "outputs": []
    },
    {
      "cell_type": "code",
      "metadata": {
        "id": "MFkmKfsJX8O9",
        "colab_type": "code",
        "colab": {}
      },
      "source": [
        "#@study is a Python decorator used internally. It is not relevant to your task, and hence you can skip understanding it.\n",
        "@study\n",
        "def run_tuning_SVM_C(word2vec_src,train_pd_c,queue,l,test_pd_c,repeats=1,\n",
        "                   fold=2,\n",
        "                   tuning=True):\n",
        "  \"\"\"\n",
        "  :param word2vec_src:str, path of word2vec model\n",
        "  :param repeats:int, number of repeats\n",
        "  :param fold: int,number of folds\n",
        "  :param tuning: boolean, tuning or not.\n",
        "  :return: None\n",
        "  \"\"\"\n",
        "  #print(\"# word2vec:\", word2vec_src)\n",
        "  #word2vec_model = gensim.models.Word2Vec.load(word2vec_src)\n",
        "  #data = PaperData(word2vec=word2vec_model)\n",
        "  train_pd_c = train_pd_c.reset_index()\n",
        "  train_pd = train_pd_c\n",
        "  test_pd = test_pd_c\n",
        "  # NOTE: The line below merely tries to 'substitue' the string 'learner' with the string 'SK_SVM'. SK_SVM is the wrapper around ..\n",
        "  # ...the SVM classifier. This wrapper is needed because in addition to fitting classifier it also defines methods to report scores\n",
        "  # ..and accuracies.\n",
        "  learner = [SK_SVM][0] \n",
        "  goal = {0: \"PD\", 1: \"PF\", 2: \"PREC\", 3: \"ACC\", 4: \"F\", 5: \"G\", 6: \"Macro_F\",\n",
        "          7: \"Micro_F\"}[6]\n",
        "  F = {}\n",
        "  clfs = []\n",
        "  for i in range(repeats):  # repeat n times here\n",
        "#    kf = StratifiedKFold(train_pd.loc[:, \"LinkTypeId\"].values, fold,\n",
        " #                        shuffle=True)\n",
        "  #  for train_index, tune_index in kf:\n",
        "    kf = StratifiedKFold(n_splits=fold, random_state=None, shuffle=True)\n",
        "    for train_index, tune_index in kf.split(train_pd.loc[:, \"Output\"].values,train_pd.loc[:, \"LinkTypeId\"].values):\n",
        "\n",
        "      train_data = train_pd.ix[train_index]\n",
        "      tune_data = train_pd.ix[tune_index]\n",
        "      train_X = train_data.loc[:, \"Output\"].values\n",
        "      train_Y = train_data.loc[:, \"LinkTypeId\"].values\n",
        "      tune_X = tune_data.loc[:, \"Output\"].values\n",
        "      tune_Y = tune_data.loc[:, \"LinkTypeId\"].values\n",
        "      test_X = test_pd.loc[:, \"Output\"].values\n",
        "      test_Y = test_pd.loc[:, \"LinkTypeId\"].values\n",
        "      #tuner_learner below internally also tries for find the best paramters of running SVM  \n",
        "      #using DE classes (#You will find the details of DE classes of this in learners.py. DE standads for 'Differential Evolution'; it is a \n",
        "      # mechanism used to find the best parameters to run the classifier with. You may ignore the details of this during the hackathon).\n",
        "      #..Once it is found it is passes as a parameter to your classifer 'learner' ('learner' is explained early in this cell)\n",
        "      \n",
        "      params, evaluation = tune_learner(learner, train_X, train_Y, tune_X,\n",
        "                                        tune_Y, goal) if tuning else ({}, 0)\n",
        "      clf = learner(train_X, train_Y, test_X, test_Y, goal)\n",
        "      F = clf.learn(F, **params)\n",
        "      clfs.append(clf)\n",
        "  clfs.append(l)    \n",
        "  queue.put(clfs)\n",
        "  return clfs\n"
      ],
      "execution_count": 0,
      "outputs": []
    },
    {
      "cell_type": "markdown",
      "metadata": {
        "id": "ZoDi52PEUgg_",
        "colab_type": "text"
      },
      "source": [
        "### ALERT: Your code change expected in the cell below (look for the tag: \" YOUR CODE HERE \")"
      ]
    },
    {
      "cell_type": "code",
      "metadata": {
        "id": "9ju6aH9V6Qcg",
        "colab_type": "code",
        "colab": {}
      },
      "source": [
        "def run_kmeans_m(word2vec_src):\n",
        "\n",
        "  print(\"# word2vec:\", word2vec_src)\n",
        "  word2vec_model = gensim.models.Word2Vec.load(word2vec_src)\n",
        "  data = PaperData(word2vec=word2vec_model)\n",
        "  train_pd = load_vec(data, data.train_data, use_pkl=False)\n",
        "  test_pd = load_vec(data, data.test_data, use_pkl=False)\n",
        "  train_X = train_pd.loc[:, \"Output\"].tolist()\n",
        "  train_Y = train_pd.loc[:, \"LinkTypeId\"].values\n",
        "  # Each cluster and the classifier which is being trained on it pushed to the 'queue' created below\n",
        "  queue = Queue()\n",
        "\n",
        "  #<YOUR CODE HERE --START>\n",
        "  #numClusters = ?#Experiment with different clusters.\n",
        "  #clf = Define a Sklearn kmeans cluster with the parameters above\n",
        "  \n",
        "  \n",
        "  #X = model[model.wv.vocab]\n",
        "  #numClusters = 3\n",
        "  #clf = KMeansClusterer(numClusters,  distance=nltk.cluster.util.cosine_distance, repeats=25)\n",
        "  numClusters= 5\n",
        "  clf = KMeans(numClusters)\n",
        "\n",
        "  #<YOU CODE END>\n",
        "  start0 = timeit.default_timer()\n",
        "  #YOUR CODE HERE: Fit the K-means clustering defined above.\n",
        "  clf.fit(train_X,train_Y)\n",
        "  \n",
        "\n",
        "  labels = clf.labels_\n",
        "  #centroids = kmeans.cluster_centers_\n",
        "  \n",
        "  stop0 = timeit.default_timer()\n",
        "\n",
        "  svm_models = []  # maintain a list of svms\n",
        "  s1 = timeit.default_timer()\n",
        "  data.train_data['clabel'] = clf.labels_\n",
        "  s2 = timeit.default_timer()\n",
        "  print(\"Inter - \", (s2-s1))\n",
        "  start1 = timeit.default_timer()\n",
        "  # the run_tuning_SVM_C function below takes care of training the SVM classifier for the passed dataset using KFold.\n",
        "  target_model = run_tuning_SVM_C\n",
        "  #For each of the clusters created above, we create a classifier (here it is an SVM inside run_tuning_SVM_C) and pass the..\n",
        "  #..cluster data as input paramter\n",
        "  for l in range(numClusters):\n",
        "    cluster = data.train_data.loc[data.train_data['clabel'] == l] \n",
        "    print(\"Thread No\", l)\n",
        "    #result.append(pool.apply_async(run_KNN_C, args = (word2vec_src,cluster,queue,)))\n",
        "    t = threading.Thread(target = run_tuning_SVM_C, args = [word2vec_src,cluster,queue,l,test_pd])\n",
        "    threads.append(t)\n",
        "    #we now start the threads (until this point though the threads are setup above the process doens't start)\n",
        "  for th in threads:\n",
        "      th.start()\n",
        "    # now we hear back from each of the thread and ensure it completes; i.e. we ensure that the classifier has finished running...\n",
        "    #.. on the particular cluster\n",
        "  for th in threads:\n",
        "      response = queue.get()\n",
        "      svm_models.append(response)   \n",
        "  #in the rest of the code below, we take each of the returned classifier and run it on test-data (spefic to each cluster)...\n",
        "  #.. to determine the accuracies\n",
        "  svm_models = sorted(svm_models, key = lambda th: th[-1] )    \n",
        "  stop1 = timeit.default_timer()  \n",
        "  svm_results = [] # maintain a list of svm results\n",
        "  test_X = test_pd.loc[:, \"Output\"].tolist()\n",
        "  predicted = clf.predict(test_X)\n",
        "  data.test_data['clabel'] = predicted\n",
        "  total_predicted = []\n",
        "  total_cluster_Y = []\n",
        "  avg_predicted = []\n",
        "  avg_cluster_Y = []\n",
        "  print(len(svm_models[l])-1)\n",
        "  for i in range(len(svm_models[l])-1):\n",
        "    total_predicted = []\n",
        "    total_cluster_Y = []\n",
        "    for l in range(numClusters):\n",
        "      cluster = data.test_data.loc[data.test_data['clabel'] == l]\n",
        "      svm_model = svm_models[l][i]\n",
        "      cluster_X = cluster.loc[:, \"Output\"].tolist()\n",
        "      cluster_Y = cluster.loc[:, \"LinkTypeId\"].tolist()\n",
        "      total_cluster_Y = np.append(total_cluster_Y,cluster_Y)\n",
        "      avg_cluster_Y = np.append(avg_cluster_Y,cluster_Y)\n",
        "      if target_model == run_tuning_SVM_C or target_model == run_tuning_KNN_C:\n",
        "          predicted_C = svm_model.learner.predict(cluster_X)\n",
        "      else:\n",
        "          predicted_C = svm_model.predict(cluster_X)\n",
        "      total_predicted = np.append(total_predicted,predicted_C)\n",
        "      avg_predicted = np.append(avg_predicted,predicted_C)\n",
        "    svm_results.append(results_SVM_C(total_predicted, total_cluster_Y))# store all the SVM result report in a dictionary\n",
        "  svm_results.append(results_SVM_C(avg_predicted, avg_cluster_Y))\n",
        "    \n",
        "    # call the helper method to summarize the svm results\n",
        "  #total_summary(svm_results, test_pd.shape[0],start0,start1,stop0,stop1,start,stop)      \n"
      ],
      "execution_count": 0,
      "outputs": []
    },
    {
      "cell_type": "code",
      "metadata": {
        "id": "MaRYCFSQlCzI",
        "colab_type": "code",
        "colab": {}
      },
      "source": [
        "\n",
        "import matplotlib.pyplot as plt\n",
        "def run_kmeans_m_get_k(word2vec_src):\n",
        "  print(\"# word2vec:\", word2vec_src)\n",
        "  word2vec_model = gensim.models.Word2Vec.load(word2vec_src)\n",
        "  data = PaperData(word2vec=word2vec_model)\n",
        "  train_pd = load_vec(data, data.train_data, use_pkl=False)\n",
        "  test_pd = load_vec(data, data.test_data, use_pkl=False)\n",
        "  train_X = train_pd.loc[:, \"Output\"].tolist()\n",
        "  # Each cluster and the classifier which is being trained on it pushed to the 'queue' created below\n",
        "  queue = Queue()\n",
        "  #<YOUR CODE HERE --START>\n",
        "  #numClusters = ?#Experiment with different clusters.\n",
        "  #clf = Define a Sklearn kmeans cluster with the parameters above\n",
        "  #numClusters = 10\n",
        "  #clf = KMeans(n_clusters=numClusters)\n",
        "  #<YOU CODE END>\n",
        "  \n",
        "  Sum_of_squared_distances = []\n",
        "  K = range(1,50)\n",
        "  for k in K:\n",
        "    # Create a kmeans model on our data, using k clusters.  random_state helps ensure that the algorithm returns the same results each time.\n",
        "    kmeans_model = KMeans(n_clusters=k, random_state=1)\n",
        "    \n",
        "    kmeans_model.fit(train_X)\n",
        " # These are our fitted labels for clusters -- the first cluster has label 0, and the second has label 1.\n",
        "    labels = kmeans_model.labels_\n",
        "  \n",
        "    # Sum of distances of samples to their closest cluster center\n",
        "    interia = kmeans_model.inertia_\n",
        "    print(\"k:\",k, \" cost:\", interia)\n",
        "    Sum_of_squared_distances.append(kmeans_model.inertia_)\n",
        "    \n",
        "  plt.plot(K, Sum_of_squared_distances, 'bx-')\n",
        "  plt.xlabel('k')\n",
        "  plt.ylabel('Sum_of_squared_distances')\n",
        "  plt.title('Elbow Method For Optimal k')\n",
        "  plt.show()"
      ],
      "execution_count": 0,
      "outputs": []
    },
    {
      "cell_type": "markdown",
      "metadata": {
        "id": "e09JM-vfwKg2",
        "colab_type": "text"
      },
      "source": [
        "### ALERT: Your code change expected in the cell below (look for the tag: \" YOUR CODE HERE \")"
      ]
    },
    {
      "cell_type": "code",
      "metadata": {
        "id": "Ce-0evbQuqtK",
        "colab_type": "code",
        "colab": {}
      },
      "source": [
        "\n",
        "def get_acc(cm):\n",
        "  out = []\n",
        "  for i in range(4):\n",
        "    out.append(cm[i][i] / 400)\n",
        "  return out\n",
        "\n",
        "@study\n",
        "def run_MLP(word2vec_src): \n",
        "  \"\"\"\n",
        "  Run SVM+word embedding experiment !\n",
        "  This is the baseline method.\n",
        "  :return:None\n",
        "  \"\"\"\n",
        "  # Create a subplot with 1 row and 2 columns\n",
        "  print(\"# word2vec:\", word2vec_src)\n",
        "  \n",
        "  #<YOUR CODE HERE START...DEFINE AN MLP CLASSIFIER.\n",
        "  \n",
        "  \n",
        "  clf = MLPClassifier(alpha = 0.7, max_iter=400) \n",
        "  \n",
        "  \n",
        "  # YOUR CODE END\n",
        "  word2vec_model = gensim.models.Word2Vec.load(word2vec_src)\n",
        "  data = PaperData(word2vec=word2vec_model)\n",
        "  train_pd = load_vec(data, data.train_data, use_pkl=False)\n",
        "  test_pd = load_vec(data, data.test_data, use_pkl=False)\n",
        "  train_X = train_pd.loc[:, \"Output\"].tolist()\n",
        "  train_Y = train_pd.loc[:, \"LinkTypeId\"].tolist()\n",
        "  test_X = test_pd.loc[:, \"Output\"].tolist()\n",
        "  test_Y = test_pd.loc[:, \"LinkTypeId\"].tolist()\n",
        "  start = timeit.default_timer()\n",
        "  #YOUR CODE HERE: START\n",
        "  # Fit the classifier\n",
        "  clf.fit(train_X, train_Y)\n",
        "  \n",
        "  #YOUR CODE END.\n",
        "  stop = timeit.default_timer()\n",
        "  #YOUR CODE HERE: Get the predictions.\n",
        "  predicted = clf.predict(test_X)\n",
        "  \n",
        "  print(metrics.classification_report(test_Y, predicted,\n",
        "                                      labels=[\"1\", \"2\", \"3\", \"4\"],\n",
        "                                      digits=3))\n",
        "  cm=metrics.confusion_matrix(test_Y, predicted, labels=[\"1\", \"2\", \"3\", \"4\"])\n",
        "  print(\"accuracy  \", get_acc(cm))\n",
        "  print(\"Model training time: \", stop - start)\n",
        "  #loss_values = clf.estimator.loss_curve_\n",
        "  #print(\"Loss Value:\", loss_values)\n",
        "  #plt.plot(loss_values)\n",
        "  #plt.show()\n",
        "\n",
        "\n",
        "  "
      ],
      "execution_count": 0,
      "outputs": []
    },
    {
      "cell_type": "markdown",
      "metadata": {
        "colab_type": "text",
        "id": "FPdwEuQw7d6T"
      },
      "source": [
        "### ALERT: Your code change expected in the cell below (look for the tag: \" YOUR CODE HERE \")"
      ]
    },
    {
      "cell_type": "code",
      "metadata": {
        "id": "_PtBxwBrx-Xn",
        "colab_type": "code",
        "colab": {}
      },
      "source": [
        "@study\n",
        "def run_SVM_baseline(word2vec_src): \n",
        "  \"\"\"\n",
        "  Run SVM+word embedding experiment !\n",
        "  This is the baseline method.\n",
        "  :return:None\n",
        "  \"\"\"\n",
        "  # Create a subplot with 1 row and 2 columns\n",
        "  print(\"# word2vec:\", word2vec_src)\n",
        "  clf = svm.SVC(kernel=\"rbf\", gamma=0.005)\n",
        "  \n",
        "  word2vec_model = gensim.models.Word2Vec.load(word2vec_src)\n",
        "  data = PaperData(word2vec=word2vec_model)\n",
        "  train_pd = load_vec(data, data.train_data, use_pkl=False)\n",
        "  test_pd = load_vec(data, data.test_data, use_pkl=False)\n",
        "  train_X = train_pd.loc[:, \"Output\"].tolist()\n",
        "  train_Y = train_pd.loc[:, \"LinkTypeId\"].tolist()\n",
        "  test_X = test_pd.loc[:, \"Output\"].tolist()\n",
        "  test_Y = test_pd.loc[:, \"LinkTypeId\"].tolist()\n",
        "  start = timeit.default_timer()\n",
        " #YOUR CODE HERE: START\n",
        "  # Fit the classifier\n",
        "  #YOUR CODE END.\n",
        "  stop = timeit.default_timer()\n",
        "  predicted = clf.predict(test_X) #YOUR CODE HERE: Get the predictions.  stop = timeit.default_timer()\n",
        "  print(metrics.classification_report(test_Y, predicted,\n",
        "                                      labels=[\"1\", \"2\", \"3\", \"4\"],\n",
        "                                      digits=3))\n",
        "  cm=metrics.confusion_matrix(test_Y, predicted, labels=[\"1\", \"2\", \"3\", \"4\"])\n",
        "  print(\"accuracy  \", get_acc(cm))\n",
        "  print(\"Model training time: \", stop - start)"
      ],
      "execution_count": 0,
      "outputs": []
    },
    {
      "cell_type": "code",
      "metadata": {
        "id": "kUav23e7AMK1",
        "colab_type": "code",
        "colab": {}
      },
      "source": [
        "\n",
        "def load_vec(d, data, use_pkl=False, file_name=None):\n",
        "  if use_pkl:\n",
        "    if os.path.isfile(file_name):\n",
        "      with open(file_name, \"rb\") as my_pickle:\n",
        "        return pickle.load(my_pickle)\n",
        "  else:\n",
        "    # print(\"call get_document_vec\")\n",
        "    return d.get_document_vec(data, file_name)\n",
        "\n"
      ],
      "execution_count": 0,
      "outputs": []
    },
    {
      "cell_type": "markdown",
      "metadata": {
        "id": "CGzIy8PsVKcA",
        "colab_type": "text"
      },
      "source": [
        "### ALERT: Your code change expected in the cell below (look for the tag: \" YOUR CODE HERE \")"
      ]
    },
    {
      "cell_type": "code",
      "metadata": {
        "id": "Z5WWBuFLw4TZ",
        "colab_type": "code",
        "colab": {}
      },
      "source": [
        "@study\n",
        "def run_KNN_baseline(word2vec_src):\n",
        "  \"\"\"\n",
        "  Run KNN+word embedding experiment !\n",
        "  This is the baseline method.\n",
        "  :return:None\n",
        "  \"\"\"\n",
        "  # Create a subplot with 1 row and 2 columns\n",
        "  print(\"# word2vec:\", word2vec_src)\n",
        "  # YOUR CODE HERE START..\n",
        "  \n",
        "  \n",
        "  clf = KNeighborsClassifier(n_neighbors=5)\n",
        "\n",
        "  \n",
        "  \n",
        "  # YOUR CODE HERE END\n",
        "  word2vec_model = gensim.models.Word2Vec.load(word2vec_src)\n",
        "  data = PaperData(word2vec=word2vec_model)\n",
        "  train_pd = load_vec(data, data.train_data, use_pkl=False)\n",
        "  test_pd = load_vec(data, data.test_data, use_pkl=False)\n",
        "  train_X = train_pd.loc[:, \"Output\"].tolist()\n",
        "  train_Y = train_pd.loc[:, \"LinkTypeId\"].tolist()\n",
        "  test_X = test_pd.loc[:, \"Output\"].tolist()\n",
        "  test_Y = test_pd.loc[:, \"LinkTypeId\"].tolist()\n",
        "  start = timeit.default_timer()\n",
        " #YOUR CODE HERE: START\n",
        "  # Fit the classifier\n",
        "  clf.fit(train_X, train_Y)\n",
        "  \n",
        "  #YOUR CODE END.\n",
        "  stop = timeit.default_timer()\n",
        "  #YOUR CODE HERE: Get the predictions.  stop = timeit.default_timer()\n",
        "  predicted = clf.predict(test_X)\n",
        "  print(metrics.classification_report(test_Y, predicted,\n",
        "                                      labels=[\"1\", \"2\", \"3\", \"4\"],\n",
        "                                      digits=3))\n",
        "  cm=metrics.confusion_matrix(test_Y, predicted, labels=[\"1\", \"2\", \"3\", \"4\"])\n",
        "  print(\"accuracy  \", get_acc(cm))\n",
        "  print(\"Model training time: \", stop - start)\n"
      ],
      "execution_count": 0,
      "outputs": []
    },
    {
      "cell_type": "code",
      "metadata": {
        "id": "zxsB47dO7P-U",
        "colab_type": "code",
        "colab": {}
      },
      "source": [
        "def prepare_word2vec():\n",
        "  print(\"Downloading pretrained word2vec models\")\n",
        "  url = \"https://zenodo.org/record/807727/files/word2vecs_models.zip\"\n",
        "  file_name = wget.download(url)\n",
        "  with zipfile.ZipFile(file_name, \"r\") as zip_ref:\n",
        "    zip_ref.extractall()"
      ],
      "execution_count": 0,
      "outputs": []
    },
    {
      "cell_type": "code",
      "metadata": {
        "id": "ss-iyGACwtOP",
        "colab_type": "code",
        "colab": {
          "base_uri": "https://localhost:8080/",
          "height": 187
        },
        "outputId": "605eefd0-9f21-4f9b-83f2-370753928ea5"
      },
      "source": [
        "myword2vecs"
      ],
      "execution_count": 73,
      "outputs": [
        {
          "output_type": "execute_result",
          "data": {
            "text/plain": [
              "['word2vecs_models/myword2vec323',\n",
              " 'word2vecs_models/myword2vec134',\n",
              " 'word2vecs_models/myword2vec237',\n",
              " 'word2vecs_models/myword2vec956',\n",
              " 'word2vecs_models/myword2vec226',\n",
              " 'word2vecs_models/myword2vec236',\n",
              " 'word2vecs_models/myword2vec622',\n",
              " 'word2vecs_models/myword2vec793',\n",
              " 'word2vecs_models/myword2vec844',\n",
              " 'word2vecs_models/myword2vec463']"
            ]
          },
          "metadata": {
            "tags": []
          },
          "execution_count": 73
        }
      ]
    },
    {
      "cell_type": "markdown",
      "metadata": {
        "id": "u-eDINpHvBP5",
        "colab_type": "text"
      },
      "source": [
        "### The code during the first run downloads the word2vec file and hence would wait for about 10 minutes. Subsequent runs would be quicker"
      ]
    },
    {
      "cell_type": "code",
      "metadata": {
        "id": "599E_pKY5eUu",
        "colab_type": "code",
        "colab": {}
      },
      "source": [
        "word_src = \"word2vecs_models\"\n",
        "threads = []\n",
        "warnings.filterwarnings(\"ignore\")\n",
        "if not os.path.exists(word_src):\n",
        "  prepare_word2vec()\n",
        "elif len(os.listdir(word_src)) == 0:\n",
        "  os.rmdir(word_src)\n",
        "  prepare_word2vec()\n",
        "for x in range(1):\n",
        "  random.seed(x)\n",
        "  np.random.seed(x)#Seeding will help in ensuring that the same order of word2vec files are retrieved below.\n",
        "  #Further multiple models below is used for experimental purposes, but in the case of your hacakthon as you see below, you..\n",
        "  #..are using only the first model. After completion of the mini-hacakthon, you are free to explore with other..\n",
        "  #..word2vec models and discuss with your mentors.\n",
        "  myword2vecs = [os.path.join(word_src, i) for i in os.listdir(word_src)\n",
        "                 if \"syn\" not in i]\n",
        "\n",
        "\n",
        "\n"
      ],
      "execution_count": 0,
      "outputs": []
    },
    {
      "cell_type": "markdown",
      "metadata": {
        "id": "mjcWMCRLcjIP",
        "colab_type": "text"
      },
      "source": [
        "## Graded problems:"
      ]
    },
    {
      "cell_type": "markdown",
      "metadata": {
        "id": "_IgWCl120jKR",
        "colab_type": "text"
      },
      "source": [
        "**Note:The primary focus on all the mini-hackathon is not only get through the tasks, but to experiment with various parameters and present the results to the mentor; and you'll be evalutated accordingly. Also, the last one hour of the mini-hackthon will consist of you presenting/discussing your results with the fellow participants. You'll not be graded on that presentation**"
      ]
    },
    {
      "cell_type": "markdown",
      "metadata": {
        "id": "QdlGKoXT7IAp",
        "colab_type": "text"
      },
      "source": [
        "### Graded 1: Fill the section \"YOUR CODE BELOW\" section within the \"get_document_vec\" function in the beginning of this notebook - 6 Marks\n",
        "The above is necessary in order to proceed with the rest of the sections below. You are basically, loading the word-to-vec representation for your stackoverflow sentences. The feature vector is the average of the two posts in question. "
      ]
    },
    {
      "cell_type": "markdown",
      "metadata": {
        "id": "bgiEg1db5fgl",
        "colab_type": "text"
      },
      "source": [
        "### Graded 2: Define appropriate classifiers below (KNN and MLP) using SKLearn, run the cell below. Observe the outputs. Try various parameters and discuss your analysis with the mentors. The weightage here is on the ability to experiment with various parameters and deterimine your observations/conclusion (and not just on classifier definition/call ) = 6* 2 = 12 Marks"
      ]
    },
    {
      "cell_type": "code",
      "metadata": {
        "id": "LfV8i-Oz5Rqa",
        "colab_type": "code",
        "colab": {
          "base_uri": "https://localhost:8080/",
          "height": 442
        },
        "outputId": "0648f119-5c74-4c2e-fb0c-cf2ee2be1cb1"
      },
      "source": [
        "# Go to the function definition above and make the necessary changes and then come back to run this.\n",
        "run_MLP(myword2vecs[x])\n"
      ],
      "execution_count": 102,
      "outputs": [
        {
          "output_type": "stream",
          "text": [
            "\n",
            "### run_MLP ##################################################\n",
            "# 2019-06-08 10:14:56\n",
            "# \n",
            "# Run SVM+word embedding experiment !\n",
            "# This is the baseline method.\n",
            "# :return:None\n",
            "# \n",
            "# word2vec: word2vecs_models/myword2vec323\n",
            "              precision    recall  f1-score   support\n",
            "\n",
            "           1      0.831     0.735     0.780       400\n",
            "           2      0.755     0.700     0.726       400\n",
            "           3      0.922     0.978     0.949       400\n",
            "           4      0.789     0.890     0.837       400\n",
            "\n",
            "    accuracy                          0.826      1600\n",
            "   macro avg      0.824     0.826     0.823      1600\n",
            "weighted avg      0.824     0.826     0.823      1600\n",
            "\n",
            "accuracy   [0.735, 0.7, 0.9775, 0.89]\n",
            "Model training time:  8.267429839001124\n",
            "\n",
            "------------------------------------------------------------------------\n",
            "# Runtime: 75.605 secs\n"
          ],
          "name": "stdout"
        }
      ]
    },
    {
      "cell_type": "code",
      "metadata": {
        "id": "0vIzD4G16ISg",
        "colab_type": "code",
        "colab": {
          "base_uri": "https://localhost:8080/",
          "height": 442
        },
        "outputId": "a600049e-4400-4b63-de59-1010d98548c5"
      },
      "source": [
        "# Go to the function definition above and make the necessary changes to make this function run and then come back to run this.\n",
        "run_KNN_baseline(myword2vecs[x])\n"
      ],
      "execution_count": 96,
      "outputs": [
        {
          "output_type": "stream",
          "text": [
            "\n",
            "### run_KNN_baseline ##################################################\n",
            "# 2019-06-08 09:54:27\n",
            "# \n",
            "# Run KNN+word embedding experiment !\n",
            "# This is the baseline method.\n",
            "# :return:None\n",
            "# \n",
            "# word2vec: word2vecs_models/myword2vec323\n",
            "              precision    recall  f1-score   support\n",
            "\n",
            "           1      0.826     0.703     0.759       400\n",
            "           2      0.697     0.863     0.771       400\n",
            "           3      0.856     0.993     0.919       400\n",
            "           4      0.854     0.642     0.733       400\n",
            "\n",
            "    accuracy                          0.800      1600\n",
            "   macro avg      0.808     0.800     0.796      1600\n",
            "weighted avg      0.808     0.800     0.796      1600\n",
            "\n",
            "accuracy   [0.7025, 0.8625, 0.9925, 0.6425]\n",
            "Model training time:  0.04649131000041962\n",
            "\n",
            "------------------------------------------------------------------------\n",
            "# Runtime: 70.801 secs\n"
          ],
          "name": "stdout"
        }
      ]
    },
    {
      "cell_type": "markdown",
      "metadata": {
        "id": "x2nvIZaV6dUo",
        "colab_type": "text"
      },
      "source": [
        "### Graded 3: Define a Kmeans using Sklearn; The objective of clustering is to enable classifer to act at the cluster level. The expectation here is your ability to appreciate the clustering and experiment with the same -  7 Marks\n",
        "You just need to define and experiment with SKlearn's Kmeans with various parameters (especially number of clusters which is providing you the right outout) and discuss the output with the mentors.</br>\n",
        "** NOTE : This clustering takes time unlike the above code. So please be sure of your code before deploying, else, you'll end up spending a lot of time waiting **"
      ]
    },
    {
      "cell_type": "code",
      "metadata": {
        "id": "DoybOMDI6Q9Q",
        "colab_type": "code",
        "colab": {
          "base_uri": "https://localhost:8080/",
          "height": 1839
        },
        "outputId": "96eadd78-8d04-4e36-d269-0a2669842a70"
      },
      "source": [
        " # Go to the function definition above and make the necessary changes to make this function run and then come back to run this.\n",
        "\n",
        "run_kmeans_m(myword2vecs[x])"
      ],
      "execution_count": 98,
      "outputs": [
        {
          "output_type": "stream",
          "text": [
            "# word2vec: word2vecs_models/myword2vec323\n",
            "Inter -  0.0008367260015802458\n",
            "Thread No 0\n",
            "Thread No 1\n",
            "Thread No 2\n",
            "Thread No 3\n",
            "Thread No 4\n",
            "\n",
            "###\n",
            "###\n",
            "###\n",
            "###    run_tuning_SVM_Crun_tuning_SVM_Crun_tuning_SVM_C   ######################################################################################################################################################\n",
            "\n",
            "##  2019-06-08 10:02:02\n",
            "\n",
            "2019-06-08 10:02:02#\n",
            "##run_tuning_SVM_C ################################################## \n",
            " \n",
            "# :param word2vec_src:str, path of word2vec model\n",
            "# :param repeats:int, number of repeats\n",
            "# :param fold: int,number of folds\n",
            "# :param tuning: boolean, tuning or not.\n",
            "# :return: None\n",
            "# # 2019-06-08 10:02:02\n",
            " #\n",
            "###\n",
            "# :param word2vec_src:str, path of word2vec model\n",
            "# :param repeats:int, number of repeats\n",
            "# :param fold: int,number of folds\n",
            "# :param tuning: boolean, tuning or not.\n",
            "# :return: None\n",
            "# 2019-06-08 10:02:02  \n",
            "\n",
            "# :param word2vec_src:str, path of word2vec model\n",
            "# :param repeats:int, number of repeats\n",
            "# :param fold: int,number of folds\n",
            "# :param tuning: boolean, tuning or not.\n",
            "# :return: None\n",
            "# \n",
            "run_tuning_SVM_C#\n",
            "\n",
            "  ##################################################\n",
            "# :param word2vec_src:str, path of word2vec model\n",
            "# :param repeats:int, number of repeats\n",
            "# :param fold: int,number of folds\n",
            "# :param tuning: boolean, tuning or not.\n",
            "# :return: None\n",
            "# \n",
            "\n",
            "# 2019-06-08 10:02:02\n",
            "# \n",
            "# :param word2vec_src:str, path of word2vec model\n",
            "# :param repeats:int, number of repeats\n",
            "# :param fold: int,number of folds\n",
            "# :param tuning: boolean, tuning or not.\n",
            "# :return: None\n",
            "# \n",
            "\n",
            "------------------------------------------------------------------------\n",
            "# Runtime: 57.753 secs\n",
            "\n",
            "------------------------------------------------------------------------\n",
            "# Runtime: 68.409 secs\n",
            "\n",
            "------------------------------------------------------------------------\n",
            "# Runtime: 86.973 secs\n",
            "\n",
            "------------------------------------------------------------------------\n",
            "# Runtime: 117.437 secs\n",
            "\n",
            "------------------------------------------------------------------------\n",
            "# Runtime: 122.827 secs\n",
            "2\n",
            "              precision    recall  f1-score   support\n",
            "\n",
            "           1      0.796     0.828     0.811       400\n",
            "           2      0.793     0.785     0.789       400\n",
            "           3      0.956     0.968     0.961       400\n",
            "           4      0.856     0.820     0.838       400\n",
            "\n",
            "    accuracy                          0.850      1600\n",
            "   macro avg      0.850     0.850     0.850      1600\n",
            "weighted avg      0.850     0.850     0.850      1600\n",
            "\n",
            "              precision    recall  f1-score   support\n",
            "\n",
            "           1      0.808     0.843     0.825       400\n",
            "           2      0.815     0.792     0.804       400\n",
            "           3      0.956     0.983     0.969       400\n",
            "           4      0.854     0.818     0.835       400\n",
            "\n",
            "    accuracy                          0.859      1600\n",
            "   macro avg      0.858     0.859     0.858      1600\n",
            "weighted avg      0.858     0.859     0.858      1600\n",
            "\n",
            "              precision    recall  f1-score   support\n",
            "\n",
            "           1      0.802     0.835     0.818       800\n",
            "           2      0.804     0.789     0.796       800\n",
            "           3      0.956     0.975     0.965       800\n",
            "           4      0.855     0.819     0.837       800\n",
            "\n",
            "    accuracy                          0.854      3200\n",
            "   macro avg      0.854     0.854     0.854      3200\n",
            "weighted avg      0.854     0.854     0.854      3200\n",
            "\n"
          ],
          "name": "stdout"
        }
      ]
    },
    {
      "cell_type": "code",
      "metadata": {
        "id": "obuQKWy4lRGr",
        "colab_type": "code",
        "colab": {
          "base_uri": "https://localhost:8080/",
          "height": 1145
        },
        "outputId": "2bd9a2cc-6c99-4ef7-d0a5-d989f322575a"
      },
      "source": [
        "run_kmeans_m_get_k(myword2vecs[x])"
      ],
      "execution_count": 104,
      "outputs": [
        {
          "output_type": "stream",
          "text": [
            "# word2vec: word2vecs_models/myword2vec323\n",
            "k: 1  cost: 56533.67099110666\n",
            "k: 2  cost: 48924.66158766223\n",
            "k: 3  cost: 44926.318815669794\n",
            "k: 4  cost: 42149.45002261766\n",
            "k: 5  cost: 40593.44573218466\n",
            "k: 6  cost: 39194.048884570286\n",
            "k: 7  cost: 38290.226117239465\n",
            "k: 8  cost: 37553.54762672913\n",
            "k: 9  cost: 36943.89783091226\n",
            "k: 10  cost: 36401.82089855171\n",
            "k: 11  cost: 35876.90724645769\n",
            "k: 12  cost: 35405.05248283017\n",
            "k: 13  cost: 34961.118423034095\n",
            "k: 14  cost: 34559.84901050725\n",
            "k: 15  cost: 34281.86645050939\n",
            "k: 16  cost: 33858.582051018886\n",
            "k: 17  cost: 33472.95383905635\n",
            "k: 18  cost: 33097.93396375203\n",
            "k: 19  cost: 32919.79207574105\n",
            "k: 20  cost: 32574.69153310538\n",
            "k: 21  cost: 32272.859022223038\n",
            "k: 22  cost: 32063.561351864504\n",
            "k: 23  cost: 31746.250457720602\n",
            "k: 24  cost: 31558.42053821023\n",
            "k: 25  cost: 31292.45133658654\n",
            "k: 26  cost: 31026.55344239951\n",
            "k: 27  cost: 30867.55636089914\n",
            "k: 28  cost: 30603.482235389052\n",
            "k: 29  cost: 30408.782370847995\n",
            "k: 30  cost: 30189.95604362147\n",
            "k: 31  cost: 29963.797162489518\n",
            "k: 32  cost: 29726.29014571292\n",
            "k: 33  cost: 29544.441117633894\n",
            "k: 34  cost: 29442.758628530715\n",
            "k: 35  cost: 29253.471480093445\n",
            "k: 36  cost: 29051.770109239926\n",
            "k: 37  cost: 28831.127902405937\n",
            "k: 38  cost: 28748.819108728883\n",
            "k: 39  cost: 28638.375130906887\n",
            "k: 40  cost: 28479.256622303757\n",
            "k: 41  cost: 28346.061679220664\n",
            "k: 42  cost: 28180.837837804214\n",
            "k: 43  cost: 28061.36035945617\n",
            "k: 44  cost: 27915.963460110193\n",
            "k: 45  cost: 27824.22370282779\n",
            "k: 46  cost: 27668.052230851074\n",
            "k: 47  cost: 27586.551209052795\n",
            "k: 48  cost: 27408.294644661135\n",
            "k: 49  cost: 27429.716707918367\n"
          ],
          "name": "stdout"
        },
        {
          "output_type": "display_data",
          "data": {
            "image/png": "[encoded data removed]",
            "text/plain": [
              "<Figure size 432x288 with 1 Axes>"
            ]
          },
          "metadata": {
            "tags": []
          }
        }
      ]
    }
  ]
}